{
 "cells": [
  {
   "cell_type": "code",
   "execution_count": 1,
   "id": "f383432b",
   "metadata": {},
   "outputs": [
    {
     "name": "stdout",
     "output_type": "stream",
     "text": [
      "ok\n"
     ]
    }
   ],
   "source": [
    "#tahap1\n",
    "import os\n",
    "import warnings\n",
    "warnings.filterwarnings('ignore')\n",
    "\n",
    "fpaths = []\n",
    "labels = []\n",
    "spoken = []\n",
    "dir0='audio'\n",
    "\n",
    "for item in os.listdir(dir0):\n",
    "    for isi in os.listdir(dir0+'/' + item):\n",
    "        fpaths.append(dir0+'/' + item + '/' + isi)\n",
    "        labels.append(item)\n",
    "        if item not in spoken:\n",
    "            spoken.append(item)\n",
    "\n",
    "#print('Words spoken=>', spoken)\n",
    "#print(\"\")\n",
    "#print('label=>', labels)\n",
    "#print(\"\")\n",
    "#print('fpath=>',fpaths)\n",
    "print('ok')"
   ]
  },
  {
   "cell_type": "code",
   "execution_count": 2,
   "id": "39ab0064",
   "metadata": {},
   "outputs": [
    {
     "name": "stdout",
     "output_type": "stream",
     "text": [
      "['apple', 'banana', 'kiwi', 'lime', 'orange', 'peach', 'pineapple']\n"
     ]
    }
   ],
   "source": [
    "print(spoken)"
   ]
  },
  {
   "cell_type": "code",
   "execution_count": 3,
   "id": "e1144e44",
   "metadata": {},
   "outputs": [],
   "source": [
    "#for item in os.listdir('audio'):\n",
    "#    print(item)\n",
    "#    for w in os.listdir('audio/' + item):\n",
    "#        print(item,'\\t',w)\n",
    "#print(labels)\n",
    "#for n, l in enumerate(set(labels)):\n",
    "#    print(n,l)"
   ]
  },
  {
   "cell_type": "code",
   "execution_count": 3,
   "id": "87d52a84",
   "metadata": {},
   "outputs": [
    {
     "name": "stdout",
     "output_type": "stream",
     "text": [
      "data awal=> (105, 32000)\n",
      "data akhir=> (105, 6966) <class 'numpy.ndarray'>\n",
      "Number of files total: 105\n",
      "all_labels [0. 0. 0. 0. 0. 0. 0. 0. 0. 0. 0. 0. 0. 0. 0. 1. 1. 1. 1. 1. 1. 1. 1. 1.\n",
      " 1. 1. 1. 1. 1. 1. 2. 2. 2. 2. 2. 2. 2. 2. 2. 2. 2. 2. 2. 2. 2. 3. 3. 3.\n",
      " 3. 3. 3. 3. 3. 3. 3. 3. 3. 3. 3. 3. 4. 4. 4. 4. 4. 4. 4. 4. 4. 4. 4. 4.\n",
      " 4. 4. 4. 5. 5. 5. 5. 5. 5. 5. 5. 5. 5. 5. 5. 5. 5. 5. 6. 6. 6. 6. 6. 6.\n",
      " 6. 6. 6. 6. 6. 6. 6. 6. 6.] total=> 105 <class 'numpy.ndarray'>\n",
      "ok\n"
     ]
    }
   ],
   "source": [
    "#tahap2 - Pembentukan data training 7x15  ( 7 kelas, masing2 kelas diulang 15)\n",
    "from scipy.io import wavfile\n",
    "import numpy as np\n",
    "\n",
    "data = np.zeros((len(fpaths), 32000)) #32000 data list penampung sementara\n",
    "print('data awal=>', data.shape)\n",
    "maxsize = -1  # size yg terbesar\n",
    "\n",
    "for n,file in enumerate(fpaths):\n",
    "    _ , d = wavfile.read(file)    \n",
    "    #print(n,file)\n",
    "    data[n, :d.shape[0]] = d\n",
    "    if d.shape[0] > maxsize:\n",
    "        maxsize = d.shape[0]\n",
    "\n",
    "#terakhir\n",
    "data = data[:,:maxsize] # agar panjang data sama\n",
    "\n",
    "#Each sample file is one row in data, and has one entry in labels\n",
    "print('data akhir=>', data.shape,type(data))\n",
    "print('Number of files total:', data.shape[0])\n",
    "\n",
    "\n",
    "#PELABELAN DATA 0-6, ada 7 kelas\n",
    "\n",
    "all_labels = np.zeros(data.shape[0]) # 105 data, numpy\n",
    "#print('Labels and label indices', all_labels)\n",
    "#print(labels)\n",
    "for n, l in enumerate(set(labels)): #untuk menandai nama lebel 4,4,2,....\n",
    "    #all_labels[np.array([i for i,item in enumerate(labels) if item == l])] = n \n",
    "    for i,item in enumerate(labels):\n",
    "        if item == l:\n",
    "            all_labels[i]=n                \n",
    "    \n",
    "all_labels.sort() #agar label nya urut\n",
    "\n",
    "print('all_labels', all_labels,'total=>',len(all_labels),type(all_labels))\n",
    "\n",
    "#print(data[15])\n",
    "#print(len(data[30]))\n",
    "#print(data[15][0])\n",
    "#print(data[15][1])\n",
    "print('ok')"
   ]
  },
  {
   "cell_type": "code",
   "execution_count": null,
   "id": "0770356d",
   "metadata": {},
   "outputs": [],
   "source": []
  },
  {
   "cell_type": "code",
   "execution_count": 4,
   "id": "feafa6ea",
   "metadata": {},
   "outputs": [
    {
     "name": "stdout",
     "output_type": "stream",
     "text": [
      "ok\n"
     ]
    }
   ],
   "source": [
    "#tahap3, STFT = SORT TIME FOURIER TRANSFORM\n",
    "# DOMAIN WAKTU KE DOMAIN FREKUENSI pada interval waktu tertentu (size tertentu)\n",
    "# fftsize=64 apa penjelasan ?\n",
    "# overlap_pct=.5  kenapa ?\n",
    "import scipy\n",
    "\n",
    "#seting parameter\n",
    "n_dim=4          #dimensi fitur 2=>45.45  4,6,8 => 81.82   10=>63.64\n",
    "                # n_dim=4 ndim=6 , akrasi sama, pilin 4 saja\n",
    "    \n",
    "fftsize0=60     #30 -> 53   40 ->45.45 50=> 83.64 60->81.82   70->53   100=>72.73, \n",
    "                #fftsize0 makin kecil akurasi turun. 40 => 18.18 untuk n_dim-4=6\n",
    "                #fftsize makin besar, panjangnya fitur turun => len=136 ,akurasi=100\n",
    "                #fftsize=100, akurasi=100 len=136\n",
    "                #fftsize=90, akurasi=100 len=153\n",
    "        \n",
    "overlap0=0.5    #0.1 -> 72.73   0.3=>45.45  0.5=0.7->81.82     0.9 -> 81/82 LAMA\n",
    "                #overlap makin besar, lama dan len fitur besar\n",
    "\n",
    "#25 => eror , simgular matrik\n",
    "#35 => 38.10\n",
    "#40 => 19.05 JATUH !!! len=347\n",
    "#50 => 61.90\n",
    "#55 => 81.90\n",
    "#58 => 66.67\n",
    "#59 => 61.90\n",
    "#60 => 90.48    overlap0: 0.45=>76.19  0.5=90.48   0.55 =>76.19   0.6 => 85.71 0.7=>85.71\n",
    "#61 => 71.43\n",
    "#62 => 71.43\n",
    "#65 => 85.71\n",
    "#70 => 85.71\n",
    "#75 => 76.19\n",
    "#90 => 79.19\n",
    "#100 => 76.19 (Tapi gagal, saat test=0.2)#120 => 71.43\n",
    "\n",
    "#penemuan baru, 100%, 17 Desember 2021 Siang 2.06 PM\n",
    "#n_dim=4\n",
    "#fftsize0=100\n",
    "#overlap0=0.5\n",
    "#random_state=11,4,0\n",
    "#test=0.1=>akurasi 100\n",
    "#TAPI JATUH SAAT utk test=0.2 =>akurasi 76.19\n",
    "\n",
    "#penemuan baru lagi, sore 2.46 pm, akurasi=90.48\n",
    "#n_dim=4\n",
    "#fftsize0=60 => 90.48   fftsize0=70=65 => 85.71\n",
    "#fftsize0=50 => 61.90\n",
    "#overlap0=0.5\n",
    "#random_state=4\n",
    "#test=0.1=>akurasi 100\n",
    "\n",
    "# TERBAIK, STABIL, KEMBALI ASAL\n",
    "# sama utk test=0.1 dan 02, akurasi 90.91\n",
    "#n_dim=4\n",
    "#fftsize0=60\n",
    "#overlap0=0.5\n",
    "\n",
    "def stft(x, fftsize=60, overlap_pct=0.5): #asli 64\n",
    "    #Modified from http://stackoverflow.com/questions/2459295/stft-and-istft-in-python\n",
    "    hop = int(fftsize * (1 - overlap_pct))\n",
    "    w = scipy.hanning(fftsize + 1)[:-1]    \n",
    "    # penjelasan hanning di buku\n",
    "    \n",
    "    raw = np.array([np.fft.rfft(w * x[i:i + fftsize]) for i in range(0, len(x) - fftsize, hop)])\n",
    "    return raw[:, :(fftsize // 2)]\n",
    "\n",
    "print('ok')"
   ]
  },
  {
   "cell_type": "code",
   "execution_count": 5,
   "id": "5303f15a",
   "metadata": {
    "scrolled": false
   },
   "outputs": [
    {
     "name": "stdout",
     "output_type": "stream",
     "text": [
      "(231, 30)\n",
      "ok4\n"
     ]
    },
    {
     "data": {
      "image/png": "[encoded data removed]",
      "text/plain": [
       "<Figure size 432x288 with 1 Axes>"
      ]
     },
     "metadata": {
      "needs_background": "light"
     },
     "output_type": "display_data"
    },
    {
     "data": {
      "image/png": "[encoded data removed]",
      "text/plain": [
       "<Figure size 432x288 with 1 Axes>"
      ]
     },
     "metadata": {
      "needs_background": "light"
     },
     "output_type": "display_data"
    },
    {
     "data": {
      "image/png": "[encoded data removed]",
      "text/plain": [
       "<Figure size 432x288 with 1 Axes>"
      ]
     },
     "metadata": {
      "needs_background": "light"
     },
     "output_type": "display_data"
    }
   ],
   "source": [
    "#tahap4 - PLOT GRAFIK, SAMPLE\n",
    "import matplotlib.pyplot as plt\n",
    "\n",
    "#1. plot wave form - domai waktu\n",
    "plt.plot(data[0, :], color='steelblue')\n",
    "plt.title('Timeseries example for %s'%labels[0])\n",
    "plt.xlim(0, 3500)\n",
    "plt.xlabel('Time (samples)')\n",
    "plt.ylabel('Amplitude (signed 16 bit)')\n",
    "plt.figure()\n",
    "\n",
    "#2. plot wave form - domai waktu\n",
    "hasil_stft=abs(stft(data[0, :],60,0.5))\n",
    "plt.plot(hasil_stft, color='green')\n",
    "plt.title('STFT series example for %s'%labels[0])\n",
    "#plt.xlim(0, 500)\n",
    "plt.xlabel('Frequecy')\n",
    "plt.ylabel('Amplitudo')\n",
    "plt.figure()\n",
    "\n",
    "#3 PSD\n",
    "# + 1 to avoid log of 0\n",
    "log_freq = 20 * np.log(np.abs(stft(data[0, :])) + 1)\n",
    "print(log_freq.shape)\n",
    "plt.imshow(log_freq, cmap='bwr', interpolation=None)\n",
    "plt.xlabel('Freq (bin)')\n",
    "plt.ylabel('Time (overlapped frames)')\n",
    "plt.ylim(log_freq.shape[1])\n",
    "plt.title('PSD of %s example'%labels[0])\n",
    "\n",
    "print('ok4')"
   ]
  },
  {
   "cell_type": "code",
   "execution_count": 6,
   "id": "c24f256d",
   "metadata": {},
   "outputs": [
    {
     "name": "stdout",
     "output_type": "stream",
     "text": [
      "ok4\n"
     ]
    }
   ],
   "source": [
    "#tahap5, MENCARI TITIK TERTINGGI DARI SINYAL\n",
    "\n",
    "from numpy.lib.stride_tricks import as_strided\n",
    "\n",
    "#Peak detection using the technique described here:\n",
    "#http://kkjkok.blogspot.com/2013/12/dsp-snippets_9.html \n",
    "\n",
    "def peakfind(x, n_peaks, l_size=3, r_size=3, c_size=3, f=np.mean):\n",
    "    win_size = l_size + r_size + c_size\n",
    "    shape = x.shape[:-1] + (x.shape[-1] - win_size + 1, win_size)\n",
    "    strides = x.strides + (x.strides[-1],)\n",
    "    xs = as_strided(x, shape=shape, strides=strides)\n",
    "    def is_peak(x):\n",
    "        centered = (np.argmax(x) == l_size + int(c_size/2))\n",
    "        l = x[:l_size]\n",
    "        c = x[l_size:l_size + c_size]\n",
    "        r = x[-r_size:]\n",
    "        passes = np.max(c) > np.max([f(l), f(r)])\n",
    "        if centered and passes:\n",
    "            return np.max(c)\n",
    "        else:\n",
    "            return -1\n",
    "        \n",
    "    r = np.apply_along_axis(is_peak, 1, xs)\n",
    "    top = np.argsort(r, None)[::-1]\n",
    "    heights = r[top[:n_peaks]]\n",
    "    #Add l_size and half - 1 of center size to get to actual peak location\n",
    "    top[top > -1] = top[top > -1] + l_size + int(c_size / 2.)\n",
    "    return heights, top[:n_peaks]\n",
    "\n",
    "print('ok4')"
   ]
  },
  {
   "cell_type": "code",
   "execution_count": 7,
   "id": "796b0598",
   "metadata": {
    "scrolled": false
   },
   "outputs": [
    {
     "name": "stdout",
     "output_type": "stream",
     "text": [
      "[ 7 20]\n",
      "[23014   567]\n",
      "ok5\n"
     ]
    },
    {
     "data": {
      "image/png": "[encoded data removed]",
      "text/plain": [
       "<Figure size 432x288 with 1 Axes>"
      ]
     },
     "metadata": {
      "needs_background": "light"
     },
     "output_type": "display_data"
    }
   ],
   "source": [
    "#tahap6 - plot titik tertimggi\n",
    "#plot_data = np.abs(stft(data[20, :])) [15, :]\n",
    "plot_data = np.abs(stft(data[20, :]))[15, :]\n",
    "# plot_data = np.abs(stft(data[3, :])) [531, :]\n",
    "\n",
    "values, locs = peakfind(plot_data, n_peaks=6)\n",
    "fp = locs[values > -1] # sumbu x\n",
    "fv = values[values > -1] # sumbu y\n",
    "plt.plot(plot_data, color='steelblue')\n",
    "plt.plot(fp, fv, 'x', color='darkred')\n",
    "plt.title('Peak location example')\n",
    "plt.xlabel('Frequency (bins)')\n",
    "plt.ylabel('Amplitude')\n",
    "\n",
    "print(fp)\n",
    "print(fv)\n",
    "print('ok5')"
   ]
  },
  {
   "cell_type": "code",
   "execution_count": 8,
   "id": "660fe299",
   "metadata": {},
   "outputs": [
    {
     "name": "stdout",
     "output_type": "stream",
     "text": [
      "Processed obs 0  %\n",
      "Processed obs 10  %\n",
      "Processed obs 20  %\n",
      "Processed obs 30  %\n",
      "Processed obs 40  %\n",
      "Processed obs 50  %\n",
      "Processed obs 60  %\n",
      "Processed obs 70  %\n",
      "Processed obs 80  %\n",
      "Processed obs 90  %\n",
      "Processed obs 100  %\n",
      "ok\n",
      "(105, 4, 231)\n"
     ]
    }
   ],
   "source": [
    "#tahap7 - FITUR EKSTRAKSI MENGGUNAKAN MFCC, CARI PENJELASAN, ISI BUKU\n",
    "\n",
    "# This processing (top freq peaks) only works for single speaker case...\n",
    "# need better features for multispeaker !\n",
    "# MFCC (cara lain :  cara deepNN / automatic feature extraction) could be interesting\n",
    "\n",
    "#n_dim = 4  # ambil jumlah fitur = 6, untuk n_peaks per blok\n",
    "\n",
    "all_obs = []\n",
    "ll=data.shape[0]\n",
    "k=0\n",
    "N=int(ll/10)\n",
    "for i in range(ll): #105\n",
    "    d = np.abs(stft(data[i, :],fftsize0,overlap0)) #60  0.5\n",
    "    \n",
    "    #n_dim = 4  # ambil jumlah fitur = 6, untuk n_peaks per blok\n",
    "    \n",
    "    # koed=6   - akurasi 90.91\n",
    "    \n",
    "    obs = np.zeros((n_dim, d.shape[0]))\n",
    "    for r in range(d.shape[0]):\n",
    "        _, t = peakfind(d[r, :], n_peaks = n_dim)\n",
    "        obs[:, r] = t.copy()\n",
    "        \n",
    "    # utk tampilan setiap 10% proses\n",
    "    if i % 10 == 0:\n",
    "        print(\"Processed obs %s\" % (k*10),' %')\n",
    "        k=k+1\n",
    "    # datanya dimasukan ke array\n",
    "    all_obs.append(obs)\n",
    "    \n",
    "all_obs = np.atleast_3d(all_obs)\n",
    "#print(all_obs)\n",
    "print('ok')\n",
    "print(all_obs.shape)"
   ]
  },
  {
   "cell_type": "code",
   "execution_count": 10,
   "id": "d165116c",
   "metadata": {},
   "outputs": [],
   "source": [
    "# print(all_obs.shape)\n",
    "# print(n_dim)"
   ]
  },
  {
   "cell_type": "code",
   "execution_count": 9,
   "id": "e00ea76d",
   "metadata": {},
   "outputs": [
    {
     "name": "stdout",
     "output_type": "stream",
     "text": [
      "Likelihoods for test set 1\n",
      "M1: 221.38828575112734\n",
      "M2: 165.27280230776483\n",
      "Prediction for test set 1\n",
      "Model 1\n",
      "\n",
      "Likelihoods for test set 2\n",
      "M1: 33.19459421485196\n",
      "M2: 59.15274753052989\n",
      "Prediction for test set 2\n",
      "Model 2\n",
      "ok7\n"
     ]
    }
   ],
   "source": [
    "#tahap8 - KLASIFIKASI PAKAI HMM,   METHOD\n",
    "import scipy.stats as st\n",
    "import numpy as np\n",
    "\n",
    "class gmmhmm:\n",
    "    #This class converted with modifications from https://code.google.com/p/hmm-speech-recognition/source/browse/Word.m\n",
    "    def __init__(self, n_states):\n",
    "        self.n_states = n_states\n",
    "        self.random_state = np.random.RandomState(0)\n",
    "        \n",
    "        #Normalize random initial state\n",
    "        self.prior = self._normalize(self.random_state.rand(self.n_states, 1))\n",
    "        self.A = self._stochasticize(self.random_state.rand(self.n_states, self.n_states))\n",
    "        \n",
    "        self.mu = None\n",
    "        self.covs = None\n",
    "        self.n_dims = None\n",
    "        \n",
    "        \n",
    "    def _forward(self, B):\n",
    "        log_likelihood = 0.\n",
    "        T = B.shape[1]\n",
    "        alpha = np.zeros(B.shape)\n",
    "        for t in range(T):\n",
    "            if t == 0:\n",
    "                alpha[:, t] = B[:, t] * self.prior.ravel()\n",
    "            else:\n",
    "                alpha[:, t] = B[:, t] * np.dot(self.A.T, alpha[:, t - 1])\n",
    "         \n",
    "            alpha_sum = np.sum(alpha[:, t])\n",
    "            alpha[:, t] /= alpha_sum\n",
    "            log_likelihood = log_likelihood + np.log(alpha_sum)\n",
    "        return log_likelihood, alpha\n",
    "    \n",
    "    def _backward(self, B):\n",
    "        T = B.shape[1]\n",
    "        beta = np.zeros(B.shape);\n",
    "           \n",
    "        beta[:, -1] = np.ones(B.shape[0])\n",
    "            \n",
    "        for t in range(T - 1)[::-1]:\n",
    "            beta[:, t] = np.dot(self.A, (B[:, t + 1] * beta[:, t + 1]))\n",
    "            beta[:, t] /= np.sum(beta[:, t])\n",
    "        return beta\n",
    "    \n",
    "    def _state_likelihood(self, obs):\n",
    "        obs = np.atleast_2d(obs)\n",
    "        B = np.zeros((self.n_states, obs.shape[1]))\n",
    "        for s in range(self.n_states):\n",
    "            #Needs scipy 0.14\n",
    "            np.random.seed(self.random_state.randint(1))\n",
    "            B[s, :] = st.multivariate_normal.pdf(\n",
    "                obs.T, mean=self.mu[:, s].T, cov=self.covs[:, :, s].T)\n",
    "            #This function can (and will!) return values >> 1\n",
    "            #See the discussion here for the equivalent matlab function\n",
    "            #https://groups.google.com/forum/#!topic/comp.soft-sys.matlab/YksWK0T74Ak\n",
    "            #Key line: \"Probabilities have to be less than 1,\n",
    "            #Densities can be anything, even infinite (at individual points).\"\n",
    "            #This is evaluating the density at individual points...\n",
    "        return B\n",
    "    \n",
    "    def _normalize(self, x):\n",
    "        return (x + (x == 0)) / np.sum(x)\n",
    "    \n",
    "    def _stochasticize(self, x):\n",
    "        return (x + (x == 0)) / np.sum(x, axis=1)\n",
    "    \n",
    "    def _em_init(self, obs):\n",
    "        #Using this _em_init function allows for less required constructor args\n",
    "        if self.n_dims is None:\n",
    "            self.n_dims = obs.shape[0]\n",
    "        if self.mu is None:\n",
    "            subset = self.random_state.choice(np.arange(self.n_dims), size=self.n_states, replace=False)\n",
    "            self.mu = obs[:, subset]\n",
    "        if self.covs is None:\n",
    "            self.covs = np.zeros((self.n_dims, self.n_dims, self.n_states))\n",
    "            self.covs += np.diag(np.diag(np.cov(obs)))[:, :, None]\n",
    "        return self\n",
    "    \n",
    "    def _em_step(self, obs): \n",
    "        obs = np.atleast_2d(obs)\n",
    "        B = self._state_likelihood(obs)\n",
    "        T = obs.shape[1]\n",
    "        \n",
    "        log_likelihood, alpha = self._forward(B)\n",
    "        beta = self._backward(B)\n",
    "        \n",
    "        xi_sum = np.zeros((self.n_states, self.n_states))\n",
    "        gamma = np.zeros((self.n_states, T))\n",
    "        \n",
    "        for t in range(T - 1):\n",
    "            partial_sum = self.A * np.dot(alpha[:, t], (beta[:, t] * B[:, t + 1]).T)\n",
    "            xi_sum += self._normalize(partial_sum)\n",
    "            partial_g = alpha[:, t] * beta[:, t]\n",
    "            gamma[:, t] = self._normalize(partial_g)\n",
    "              \n",
    "        partial_g = alpha[:, -1] * beta[:, -1]\n",
    "        gamma[:, -1] = self._normalize(partial_g)\n",
    "        \n",
    "        expected_prior = gamma[:, 0]\n",
    "        expected_A = self._stochasticize(xi_sum)\n",
    "        \n",
    "        expected_mu = np.zeros((self.n_dims, self.n_states))\n",
    "        expected_covs = np.zeros((self.n_dims, self.n_dims, self.n_states))\n",
    "        \n",
    "        gamma_state_sum = np.sum(gamma, axis=1)\n",
    "        #Set zeros to 1 before dividing\n",
    "        gamma_state_sum = gamma_state_sum + (gamma_state_sum == 0)\n",
    "        \n",
    "        for s in range(self.n_states):\n",
    "            gamma_obs = obs * gamma[s, :]\n",
    "            expected_mu[:, s] = np.sum(gamma_obs, axis=1) / gamma_state_sum[s]\n",
    "            partial_covs = np.dot(gamma_obs, obs.T) / gamma_state_sum[s] - np.dot(expected_mu[:, s], expected_mu[:, s].T)\n",
    "            #Symmetrize\n",
    "            partial_covs = np.triu(partial_covs) + np.triu(partial_covs).T - np.diag(partial_covs)\n",
    "        \n",
    "        #Ensure positive semidefinite by adding diagonal loading\n",
    "        expected_covs += .01 * np.eye(self.n_dims)[:, :, None]\n",
    "        \n",
    "        self.prior = expected_prior\n",
    "        self.mu = expected_mu\n",
    "        self.covs = expected_covs\n",
    "        self.A = expected_A\n",
    "        return log_likelihood\n",
    "    \n",
    "    def fit(self, obs, n_iter=15):\n",
    "        #Support for 2D and 3D arrays\n",
    "        #2D should be n_features, n_dims\n",
    "        #3D should be n_examples, n_features, n_dims\n",
    "        #For example, with 6 features per speech segment, 105 different words\n",
    "        #this array should be size\n",
    "        #(105, 6, X) where X is the number of frames with features extracted\n",
    "        #For a single example file, the array should be size (6, X)\n",
    "        if len(obs.shape) == 2:\n",
    "            for i in range(n_iter):\n",
    "                self._em_init(obs)\n",
    "                log_likelihood = self._em_step(obs)\n",
    "        elif len(obs.shape) == 3:\n",
    "            count = obs.shape[0]\n",
    "            for n in range(count):\n",
    "                for i in range(n_iter):\n",
    "                    self._em_init(obs[n, :, :])\n",
    "                    log_likelihood = self._em_step(obs[n, :, :])\n",
    "        return self\n",
    "    \n",
    "    def transform(self, obs):\n",
    "        #Support for 2D and 3D arrays\n",
    "        #2D should be n_features, n_dims\n",
    "        #3D should be n_examples, n_features, n_dims\n",
    "        #For example, with 6 features per speech segment, 105 different words\n",
    "        #this array should be size\n",
    "        #(105, 6, X) where X is the number of frames with features extracted\n",
    "        #For a single example file, the array should be size (6, X)\n",
    "        if len(obs.shape) == 2:\n",
    "            B = self._state_likelihood(obs)\n",
    "            log_likelihood, _ = self._forward(B)\n",
    "            return log_likelihood\n",
    "        elif len(obs.shape) == 3:\n",
    "            count = obs.shape[0]\n",
    "            out = np.zeros((count,))\n",
    "            for n in range(count):\n",
    "                B = self._state_likelihood(obs[n, :, :])\n",
    "                log_likelihood, _ = self._forward(B)\n",
    "                out[n] = log_likelihood\n",
    "            return out\n",
    "\n",
    "if __name__ == \"__main__\":\n",
    "    rstate = np.random.RandomState(0)\n",
    "    t1 = np.ones((4, 40)) + .001 * rstate.rand(4, 40)\n",
    "    t1 /= t1.sum(axis=0)\n",
    "    t2 = rstate.rand(*t1.shape)\n",
    "    t2 /= t2.sum(axis=0)\n",
    "    \n",
    "    m1 = gmmhmm(2)\n",
    "    m1.fit(t1)\n",
    "    m2 = gmmhmm(2)\n",
    "    m2.fit(t2)\n",
    "    \n",
    "    m1t1 = m1.transform(t1)\n",
    "    m2t1 = m2.transform(t1)\n",
    "    print(\"Likelihoods for test set 1\")\n",
    "    print(\"M1:\", m1t1)\n",
    "    print(\"M2:\", m2t1)\n",
    "    print(\"Prediction for test set 1\")\n",
    "    print(\"Model\", np.argmax([m1t1, m2t1]) + 1)\n",
    "    print()\n",
    "    \n",
    "    m1t2 = m1.transform(t2)\n",
    "    m2t2 = m2.transform(t2)\n",
    "    print(\"Likelihoods for test set 2\")\n",
    "    print(\"M1:\", m1t2)\n",
    "    print(\"M2:\", m2t2)\n",
    "    print(\"Prediction for test set 2\")\n",
    "    print(\"Model\", np.argmax([m1t2, m2t2]) + 1)\n",
    "    \n",
    "print('ok7')"
   ]
  },
  {
   "cell_type": "code",
   "execution_count": 10,
   "id": "43d68111",
   "metadata": {},
   "outputs": [
    {
     "name": "stdout",
     "output_type": "stream",
     "text": [
      "Size of training matrix: (84, 4, 231)\n",
      "Size of testing matrix: (21, 4, 231)\n",
      "ok8\n"
     ]
    }
   ],
   "source": [
    "#tahap9, MENGATUR JMLAH TRANING DAN TESTING, SECARA RANDOM\n",
    "\n",
    "from sklearn.model_selection import StratifiedShuffleSplit\n",
    "sss = StratifiedShuffleSplit(n_splits=5, test_size=0.2, random_state=4) #random_state=pengaruh akurasi\n",
    "\n",
    "# random_state=0 => akurasi = 90.91\n",
    "# random_state=1 => akurasi = 54.55\n",
    "# random_state=2 => akurasi = 72.73\n",
    "# random_state=3 => akurasi = 81.82\n",
    "# random_state=4 => akurasi = 90.91\n",
    "# random_state=5 => akurasi = 72.73\n",
    "# random_state=6 => akurasi = 63.64\n",
    "# random_state=7 => akurasi = 81.81\n",
    "# random_state=8 => akurasi = 72.72\n",
    "# random_state=9 => akurasi = 45.45\n",
    "# random_state=10 => akurasi = 81.82\n",
    "# random_state=11 => akurasi = 90.91\n",
    "\n",
    "sss.get_n_splits(all_labels)\n",
    "\n",
    "#print (sss)\n",
    "\n",
    "for n,i in enumerate(all_obs):  #NORMALISASI, DIBAGI JMLAH SEMUNYA,PROBABILITAS\n",
    "    all_obs[n] /= all_obs[n].sum(axis=0)\n",
    "\n",
    "for train_index, test_index in sss.split(all_obs,all_labels):\n",
    "    X_train, X_test = all_obs[train_index, ...], all_obs[test_index, ...]\n",
    "    y_train, y_test = all_labels[train_index], all_labels[test_index]\n",
    "print('Size of training matrix:', X_train.shape)\n",
    "print('Size of testing matrix:', X_test.shape)\n",
    "\n",
    "print('ok8')\n",
    "#print(y_test)"
   ]
  },
  {
   "cell_type": "code",
   "execution_count": 13,
   "id": "dd07b162",
   "metadata": {},
   "outputs": [],
   "source": [
    "#print(X_train[0])\n",
    "#print(\"\")\n",
    "#print(X_train[104-11])"
   ]
  },
  {
   "cell_type": "code",
   "execution_count": 14,
   "id": "ec9dbe5b",
   "metadata": {},
   "outputs": [],
   "source": [
    "# tahap10 - PROSES KLASIFIKASI HMM  =>  CARI FILE HASIL TRAINING\n",
    "# ys = set(all_labels)\n",
    "\n",
    "# print('Proses Training HMM ..., HASIL TRAINING DI SIMPAN = ms')\n",
    "# ms = [gmmhmm(4) for y in ys]\n",
    "\n",
    "# print(ms)\n",
    "\n",
    "# _ = [m.fit(X_train[y_train == y, :, :]) for m, y in zip(ms, ys)]\n",
    "\n",
    "# print('Proses Testing HMM ...')\n",
    "# ps = [m.transform(X_test) for m in ms]\n",
    "# print(ps)\n",
    "\n",
    "# res = np.vstack(ps) #diubuabh ke numpy, persis tabel asli dari array asal\n",
    "# predicted_labels = np.argmax(res, axis=0)\n",
    "# missed = (predicted_labels != y_test)\n",
    "# print('Test accuracy: %.2f percent' % (100 * (1 - np.mean(missed))))\n",
    "# print('ok')"
   ]
  },
  {
   "cell_type": "code",
   "execution_count": null,
   "id": "38137746",
   "metadata": {},
   "outputs": [],
   "source": []
  },
  {
   "cell_type": "code",
   "execution_count": 11,
   "id": "73de7a24",
   "metadata": {},
   "outputs": [
    {
     "name": "stdout",
     "output_type": "stream",
     "text": [
      "[<__main__.gmmhmm object at 0x000001E41D62AC70>, <__main__.gmmhmm object at 0x000001E41D62ACA0>, <__main__.gmmhmm object at 0x000001E41D62ADC0>, <__main__.gmmhmm object at 0x000001E41D62AE80>, <__main__.gmmhmm object at 0x000001E41D62AEE0>, <__main__.gmmhmm object at 0x000001E41D62AF40>, <__main__.gmmhmm object at 0x000001E41D62AA00>]\n",
      "Proses Training HMM ...\n",
      "<__main__.gmmhmm object at 0x000001E41D62AC70> | 0.0\n",
      "<__main__.gmmhmm object at 0x000001E41D62ACA0> | 1.0\n",
      "<__main__.gmmhmm object at 0x000001E41D62ADC0> | 2.0\n",
      "<__main__.gmmhmm object at 0x000001E41D62AE80> | 3.0\n",
      "<__main__.gmmhmm object at 0x000001E41D62AEE0> | 4.0\n",
      "<__main__.gmmhmm object at 0x000001E41D62AF40> | 5.0\n",
      "<__main__.gmmhmm object at 0x000001E41D62AA00> | 6.0\n",
      "Proses Testing HMM ...\n",
      "<__main__.gmmhmm object at 0x000001E41D62AC70>\n",
      "<__main__.gmmhmm object at 0x000001E41D62ACA0>\n",
      "<__main__.gmmhmm object at 0x000001E41D62ADC0>\n",
      "<__main__.gmmhmm object at 0x000001E41D62AE80>\n",
      "<__main__.gmmhmm object at 0x000001E41D62AEE0>\n",
      "<__main__.gmmhmm object at 0x000001E41D62AF40>\n",
      "<__main__.gmmhmm object at 0x000001E41D62AA00>\n",
      "Test accuracy: 90.48 percent\n"
     ]
    }
   ],
   "source": [
    "#TRAINING - PENJELASAN\n",
    "\n",
    "ys = set(all_labels)\n",
    "ms=[]\n",
    "for y in ys:\n",
    "    ms.append(gmmhmm(n_dim)) # 6 = asli\n",
    "\n",
    "print(ms)\n",
    "\n",
    "print('Proses Training HMM ...')\n",
    "for m, y in zip(ms, ys):\n",
    "    print(m,'|',y)\n",
    "    _ = [m.fit(X_train[y_train == y, :, :])]\n",
    "\n",
    "print('Proses Testing HMM ...')\n",
    "ps=[]\n",
    "for m in ms:\n",
    "    print(m)\n",
    "    ps.append(m.transform(X_test))\n",
    "\n",
    "# print('ps =>',ps)\n",
    "\n",
    "res = np.vstack(ps)\n",
    "predicted_labels = np.argmax(res, axis=0)\n",
    "missed = (predicted_labels != y_test)\n",
    "print('Test accuracy: %.2f percent' % (100 * (1 - np.mean(missed))))"
   ]
  },
  {
   "cell_type": "code",
   "execution_count": 16,
   "id": "a8634f2c",
   "metadata": {},
   "outputs": [],
   "source": [
    "# pip install pickle-mixin"
   ]
  },
  {
   "cell_type": "code",
   "execution_count": 12,
   "id": "8b6d6593",
   "metadata": {},
   "outputs": [
    {
     "name": "stdout",
     "output_type": "stream",
     "text": [
      "ok\n"
     ]
    }
   ],
   "source": [
    "def AmbilFitur(d):\n",
    "  \n",
    "    #1. SAMAKAN UKURAN\n",
    "#     _ , d = wavfile.read(nama_file)\n",
    "    s = np.zeros(32000) #32000 data list penampung sementara\n",
    "   \n",
    "    s[:d.shape[0]] = d\n",
    "    s = s[:maxsize]# agar panjang data sama\n",
    "    \n",
    "    #2. STFT\n",
    "    d = np.abs(stft(s,fftsize0,overlap0)) #60  0.5\n",
    "#     print('d.shape',d.shape)    \n",
    "    \n",
    "    #3. FITUR EKSTRAKSI, 4 PUNCAK TIAP INTEVAL\n",
    "    n_dim = 4  # ambil 4 PUNCAK TIAP WINDOWS INTERVAL, =>  n_peaks  \n",
    "\n",
    "    obs = np.zeros((n_dim, d.shape[0]))\n",
    "    #print('awal',obs.shape)\n",
    "\n",
    "    for r in range(d.shape[0]):\n",
    "        _, t = peakfind(d[r, :], n_peaks = n_dim)\n",
    "        obs[:, r] = t.copy()\n",
    "    \n",
    "    #4. NORMALISASI\n",
    "    obs = obs/obs.sum(axis=0)\n",
    "    return obs\n",
    "\n",
    "print('ok')"
   ]
  },
  {
   "cell_type": "code",
   "execution_count": null,
   "id": "44b0e73f",
   "metadata": {},
   "outputs": [],
   "source": []
  },
  {
   "cell_type": "code",
   "execution_count": 13,
   "id": "92cd19ec",
   "metadata": {},
   "outputs": [
    {
     "name": "stdout",
     "output_type": "stream",
     "text": [
      "ok\n"
     ]
    }
   ],
   "source": [
    "import joblib\n",
    "\n",
    "# Save the model as a pickle in a file\n",
    "joblib.dump(ms, 'save_ms_2.pkl')\n",
    "joblib.dump(spoken, 'save_spoken_2.pkl')\n",
    "print('ok')"
   ]
  },
  {
   "cell_type": "code",
   "execution_count": 19,
   "id": "ab9c314e",
   "metadata": {},
   "outputs": [],
   "source": [
    "# import pickle\n",
    "\n",
    "# with open('save_ms','wb') as r:\n",
    "#     pickle.dump(ms,r)\n",
    "\n",
    "# with open('save_spoken','wb') as r:\n",
    "#     pickle.dump(spoken,r)\n",
    "    \n",
    "# print('ok')"
   ]
  },
  {
   "cell_type": "code",
   "execution_count": 14,
   "id": "727ddca7",
   "metadata": {},
   "outputs": [
    {
     "name": "stdout",
     "output_type": "stream",
     "text": [
      "ok\n"
     ]
    }
   ],
   "source": [
    "ms_load = joblib.load('save_ms_2.pkl')\n",
    "spoken_load = joblib.load('save_spoken_2.pkl')\n",
    "# maxsize = spoken_load[-1]\n",
    "# del spoken_load[-1]\n",
    "print('ok')"
   ]
  },
  {
   "cell_type": "code",
   "execution_count": 21,
   "id": "b5055c02",
   "metadata": {},
   "outputs": [],
   "source": [
    "# with open('save_ms','rb') as r:\n",
    "#     ms_load=pickle.load(r)\n",
    "\n",
    "# with open('save_spoken','rb') as r:\n",
    "#     spoken_load=pickle.load(r)\n",
    "    \n",
    "# # maxsize = spoken_load[-1]\n",
    "# # del spoken_load[-1]\n",
    "# print('ok')"
   ]
  },
  {
   "cell_type": "code",
   "execution_count": 22,
   "id": "002bea0e",
   "metadata": {},
   "outputs": [],
   "source": [
    "#print(ys)\n",
    "#print(X_train)\n",
    "#print(X_train.shape)\n",
    "#print(y_train)\n",
    "#print(y_train.shape)\n",
    "\n",
    "#JADI SIMPAN X_train, y_train)\n",
    "\n",
    "#type(ms)\n",
    "#print(ps[0])\n",
    "#print(ps[1])\n",
    "#res = np.vstack(ps)\n",
    "#print(res)\n",
    "#print(res[0,:])\n",
    "#print(res[1,:])\n",
    "#print(predicted_labels)\n",
    "#print(y_test)"
   ]
  },
  {
   "cell_type": "code",
   "execution_count": 23,
   "id": "67e8724f",
   "metadata": {},
   "outputs": [],
   "source": [
    "#TEST UTK 1 DATA AUDIO\n",
    "#print('Proses Testing HMM, semua data testing AUDIO')\n",
    "\n",
    "#ps = [m.transform(X_test) for m in ms]\n",
    "#res = np.vstack(ps)\n",
    "#print(res)\n",
    "#print('ok')\n",
    "#print(np.argmax(res, axis=0))\n",
    "#print(y_test)\n",
    "\n",
    "#predicted_labels = np.argmax(res, axis=0)\n",
    "#missed = (predicted_labels != y_test)\n",
    "#print('Test accuracy: %.2f percent' % (100 * (1 - np.mean(missed))))\n",
    "#print('ok')\n"
   ]
  },
  {
   "cell_type": "code",
   "execution_count": 24,
   "id": "f0b20c54",
   "metadata": {},
   "outputs": [],
   "source": [
    "# print('Proses Testing HMM, 1 AUDIO DARI DATA TESTING')\n",
    "# # SIMPAN DATA TRAINING = ms\n",
    "\n",
    "# ke=8  # ke=8 eror\n",
    "# print('INPUT =',spoken[int(y_test[ke])])\n",
    "# x = X_test[ke,:,:] \n",
    "\n",
    "# #PROSES TESTING\n",
    "# ps = [m.transform(x) for m in ms]\n",
    "\n",
    "# res = np.vstack(ps)\n",
    "# #print(res)\n",
    "# print('ok')\n",
    "# print(np.argmax(res, axis=0))\n",
    "# print(y_test[ke])\n",
    "# if np.argmax(res, axis=0)==y_test[ke]:\n",
    "#     print('True')\n",
    "# else:\n",
    "#     print('False')\n",
    "# pos=np.argmax(res, axis=0)[0]\n",
    "\n",
    "# print('HASIL TESTING =',spoken[pos])\n"
   ]
  },
  {
   "cell_type": "code",
   "execution_count": 25,
   "id": "74eee30a",
   "metadata": {},
   "outputs": [],
   "source": [
    "# print(len(y_train))"
   ]
  },
  {
   "cell_type": "code",
   "execution_count": 26,
   "id": "b5fcc90b",
   "metadata": {},
   "outputs": [],
   "source": [
    "# print(len(y_test))"
   ]
  },
  {
   "cell_type": "code",
   "execution_count": 27,
   "id": "52cc84ff",
   "metadata": {},
   "outputs": [],
   "source": [
    "# ke=1 # ke=8 eror\n",
    "# print('INPUT =',spoken[int(y_test[ke])])\n",
    "# x = X_test[ke,:,:]\n",
    "# print()\n",
    "# print(x.shape)\n",
    "# x"
   ]
  },
  {
   "cell_type": "code",
   "execution_count": 15,
   "id": "20a10f55",
   "metadata": {},
   "outputs": [
    {
     "name": "stdout",
     "output_type": "stream",
     "text": [
      "['apple', 'banana', 'kiwi', 'lime', 'orange', 'peach', 'pineapple']\n",
      "[<__main__.gmmhmm object at 0x000001E41B2F5A00>, <__main__.gmmhmm object at 0x000001E41B2F5FA0>, <__main__.gmmhmm object at 0x000001E41B2DE250>, <__main__.gmmhmm object at 0x000001E41B2DE6D0>, <__main__.gmmhmm object at 0x000001E41D64B2B0>, <__main__.gmmhmm object at 0x000001E41D64B670>, <__main__.gmmhmm object at 0x000001E41D64B970>]\n"
     ]
    }
   ],
   "source": [
    "print(spoken_load)\n",
    "print(ms_load)"
   ]
  },
  {
   "cell_type": "code",
   "execution_count": null,
   "id": "212d328e",
   "metadata": {},
   "outputs": [],
   "source": []
  },
  {
   "cell_type": "code",
   "execution_count": 29,
   "id": "f17fafb4",
   "metadata": {},
   "outputs": [],
   "source": [
    "# print('Proses Testing HMM, 1 AUDIO DARI FILE')\n",
    "\n",
    "#1. load\n",
    "#nama_file = 'audio/apple/apple01.wav'\n",
    "#nama_file = 'audio/pineapple/pineapple15.wav'\n",
    "# nama_file = 'audio/banana/banana03.wav'\n",
    "# nama_file = 'audio/orange/orange01.wav'\n",
    "# nama_file = 'audio/lime/lime02.wav'\n",
    "# #nama_file = 'audio/kiwi/kiwi01.wav'\n",
    "# #nama_file = 'audio/peach/peach01.wav'\n",
    "# # nama_file = 'dataset/alif/alif3.wav'\n",
    "\n",
    "# s = np.zeros(32000) #32000 data list penampung sementara\n",
    "\n",
    "# _ , d = wavfile.read(nama_file)    \n",
    "# # print(d)\n",
    "# s[:d.shape[0]] = d\n",
    "\n",
    "# s = s[:maxsize] # agar panjang data sama\n",
    "# print(s)\n",
    "\n",
    "\n",
    "# #2. STFT\n",
    "# d = np.abs(stft(s,fftsize0,overlap0)) #60  0.5\n",
    "# print('d.shape',d.shape)    \n",
    "\n",
    "# #3. FITUR EKSTRAKSI, 4 PUNCAK TIAP INTEVAL\n",
    "# #n_dim = 4  # ambil 4 PUNCAK TIAP WINDOWS INTERVAL, =>  n_peaks  \n",
    "\n",
    "# obs = np.zeros((n_dim, d.shape[0]))\n",
    "# print('awal',obs.shape)\n",
    "\n",
    "# for r in range(d.shape[0]):\n",
    "#     _, t = peakfind(d[r, :], n_peaks = n_dim)\n",
    "#     obs[:, r] = t.copy()\n",
    "    \n",
    "# #4. NORMALISASI\n",
    "# obs = obs/obs.sum(axis=0)\n",
    "\n",
    "# #5. TESTING 1 FILE AUDIO\n",
    "# x=obs\n",
    "\n",
    "# ps = [m.transform(x) for m in ms]  # data training ms\n",
    "\n",
    "# print(ps)\n",
    "# res = np.vstack(ps)\n",
    "\n",
    "# #6. HASIL TESTING\n",
    "# pos=np.argmax(res, axis=0)[0]\n",
    "# print('HASIL TESTING =',spoken[pos])\n"
   ]
  },
  {
   "cell_type": "code",
   "execution_count": 30,
   "id": "2ef4c4d1",
   "metadata": {},
   "outputs": [],
   "source": [
    "#my_list=ms\n",
    "#with open('ms.txt', 'w') as f:\n",
    "#    for item in my_list:\n",
    "#        f.write(\"%s\\n\" % item)\n",
    "#f.close()"
   ]
  },
  {
   "cell_type": "code",
   "execution_count": 31,
   "id": "fd21c318",
   "metadata": {},
   "outputs": [],
   "source": [
    "#my_list=[]\n",
    "#with open('ms.txt', 'r') as f:\n",
    "#    for x in f:\n",
    "#        my_list.append(x)\n",
    "#f.close()\n",
    "#print(my_list)\n",
    "#print(len(my_list))"
   ]
  },
  {
   "cell_type": "code",
   "execution_count": 32,
   "id": "710c9c85",
   "metadata": {},
   "outputs": [],
   "source": [
    "# save file"
   ]
  },
  {
   "cell_type": "code",
   "execution_count": 33,
   "id": "bfa2af3c",
   "metadata": {},
   "outputs": [],
   "source": [
    "# print(ms)"
   ]
  },
  {
   "cell_type": "code",
   "execution_count": 16,
   "id": "090e7299",
   "metadata": {},
   "outputs": [
    {
     "name": "stdout",
     "output_type": "stream",
     "text": [
      "6966\n"
     ]
    }
   ],
   "source": [
    "print(maxsize)"
   ]
  },
  {
   "cell_type": "code",
   "execution_count": 35,
   "id": "2cd53bfc",
   "metadata": {},
   "outputs": [],
   "source": [
    "# print(spoken)"
   ]
  },
  {
   "cell_type": "code",
   "execution_count": 36,
   "id": "1a2e76bd",
   "metadata": {},
   "outputs": [],
   "source": [
    "# spoken.append(maxsize)\n",
    "# print('ok')"
   ]
  },
  {
   "cell_type": "code",
   "execution_count": null,
   "id": "383ab572",
   "metadata": {},
   "outputs": [],
   "source": []
  },
  {
   "cell_type": "code",
   "execution_count": 20,
   "id": "4632417a",
   "metadata": {},
   "outputs": [
    {
     "name": "stdout",
     "output_type": "stream",
     "text": [
      "[  98  113   80 ... -150 -116  -53]\n",
      "(4, 231)\n",
      "6966\n",
      "audio/pineapple/pineapple15.wav  =>  HASIL TESTING = pineapple\n"
     ]
    }
   ],
   "source": [
    "# nama_file = 'audio/apple/apple01.wav'\n",
    "nama_file = 'audio/pineapple/pineapple15.wav'\n",
    "# nama_file = 'audio/banana/banana03.wav'\n",
    "# nama_file = 'audio/orange/orange08.wav'\n",
    "# nama_file = 'audio/lime/lime02.wav'\n",
    "# nama_file = 'audio/kiwi/kiwi01.wav'\n",
    "# nama_file = 'audio/peach/peach15.wav'\n",
    "\n",
    "# LOAD \n",
    "_ , d = wavfile.read(nama_file)\n",
    "print(d)\n",
    "\n",
    "#AMBILFITUR\n",
    "x = AmbilFitur(d)\n",
    "# print(x)\n",
    "print(x.shape)\n",
    "print(maxsize)\n",
    "\n",
    "\n",
    "#TESTING\n",
    "ps = [m.transform(x) for m in ms_load]  # data training ms\n",
    "#print(ps)\n",
    "res = np.vstack(ps)\n",
    "\n",
    "#HASIL TESTING\n",
    "pos=np.argmax(res, axis=0)[0]\n",
    "print(nama_file,' =>  HASIL TESTING =',spoken_load[pos])"
   ]
  },
  {
   "cell_type": "code",
   "execution_count": 23,
   "id": "4312a8e3",
   "metadata": {},
   "outputs": [
    {
     "name": "stdout",
     "output_type": "stream",
     "text": [
      "['apple', 'banana', 'kiwi', 'lime', 'orange', 'peach', 'pineapple']\n",
      "Silakan Ber-Suara  2  detik\n",
      "STOP\n",
      "(4, 231)\n",
      "6966\n",
      "=>  HASIL TESTING = orange\n"
     ]
    }
   ],
   "source": [
    "import os\n",
    "import time\n",
    "#import tkinter as tk\n",
    "from tkinter import *\n",
    "#from tkinter import messagebox\n",
    "\n",
    "import sounddevice as sd\n",
    "import soundfile as sf\n",
    "# import proses as pr\n",
    "\n",
    "fs=8000 # sampling per detik, 8000 44100\n",
    "#N=int(detik.get())\n",
    "N=2\n",
    "\n",
    "print(spoken_load)\n",
    "print('Silakan Ber-Suara ',N,' detik')\n",
    "\n",
    "if True:\n",
    "    #REKAM\n",
    " \n",
    "    rekam = sd.rec(int(N*fs), samplerate=fs, channels=1,dtype='int16') #dtype='float54'\n",
    "   \n",
    "    #B.set('SILAKAN SUARA')\n",
    "    #C.set('['+str(m)+'/'+str(maks)+'] '+clas[k])   \n",
    "    #D.set('')\n",
    "    #root.update()\n",
    "    \n",
    "    sd.wait() \n",
    "    print('STOP')\n",
    "    \n",
    "    #PLAY      \n",
    "    sd.stop()\n",
    "    #B.set('Play')   \n",
    "    \n",
    "    rekam=rekam[:,0] # ambil jadi numpay array 1 D\n",
    "    jml=0\n",
    "    #jml,rekam=pr.haluskan(rekam , 128 , 500) # BLOK=512 (lebih kecil, lebih banyak yg dihaluskan)  TRESHOLD=500\n",
    "    \n",
    "    \n",
    "    #B.set[('COBA SUARA - Haluskan '+str(jml)+' blok')]\n",
    "    #NamaFile=dir0+'/'+dir1+'/'+clas[k]+'/'+clas[k]+str(m)+'.wav'\n",
    "    #D.set('Simpan : '+NamaFile)  \n",
    "    #root.update()\n",
    "    \n",
    "    #BUNYIKAN\n",
    "    sd.play(rekam, fs)\n",
    "    #sd.wait() \n",
    "    \n",
    "    \n",
    "# PROSES PENGENALAN\n",
    "d=rekam\n",
    "#AMBILFITUR\n",
    "x = AmbilFitur(d)\n",
    "#print(x)\n",
    "print(x.shape)\n",
    "print(maxsize)\n",
    "#TESTING\n",
    "ps = [m.transform(x) for m in ms_load]  # data training ms\n",
    "#print(ps)\n",
    "res = np.vstack(ps)\n",
    "\n",
    "#HASIL TESTING\n",
    "pos=np.argmax(res, axis=0)[0]\n",
    "print('=>  HASIL TESTING =',spoken_load[pos])"
   ]
  },
  {
   "cell_type": "code",
   "execution_count": null,
   "id": "1ae9b1f0",
   "metadata": {},
   "outputs": [],
   "source": []
  }
 ],
 "metadata": {
  "kernelspec": {
   "display_name": "Python 3",
   "language": "python",
   "name": "python3"
  },
  "language_info": {
   "codemirror_mode": {
    "name": "ipython",
    "version": 3
   },
   "file_extension": ".py",
   "mimetype": "text/x-python",
   "name": "python",
   "nbconvert_exporter": "python",
   "pygments_lexer": "ipython3",
   "version": "3.8.8"
  }
 },
 "nbformat": 4,
 "nbformat_minor": 5
}
